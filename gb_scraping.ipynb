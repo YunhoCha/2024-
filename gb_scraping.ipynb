{
  "cells": [
    {
      "cell_type": "markdown",
      "metadata": {
        "id": "view-in-github",
        "colab_type": "text"
      },
      "source": [
        "<a href=\"https://colab.research.google.com/github/YunhoCha/2024-DH/blob/main/gb_scraping.ipynb\" target=\"_parent\"><img src=\"https://colab.research.google.com/assets/colab-badge.svg\" alt=\"Open In Colab\"/></a>"
      ]
    },
    {
      "cell_type": "markdown",
      "metadata": {
        "id": "ouaAqullifrx",
        "jp-MarkdownHeadingCollapsed": true,
        "tags": []
      },
      "source": [
        "# 1_웹 스크래핑"
      ]
    },
    {
      "cell_type": "markdown",
      "source": [
        "시작전 왼쪽에 data 폴더와 result 폴더을 만들고 data 폴더에 메타데이터 파일을 꼭 넣을 것"
      ],
      "metadata": {
        "id": "Sg5xvXi0GFWC"
      }
    },
    {
      "cell_type": "markdown",
      "metadata": {
        "id": "d5I4gxbtiklW"
      },
      "source": [
        "# 2_필요한 도구와 라이브러리 설치"
      ]
    },
    {
      "cell_type": "code",
      "execution_count": null,
      "metadata": {
        "id": "mQEi61fV8eIV",
        "tags": []
      },
      "outputs": [],
      "source": [
        "import ssl\n",
        "import pandas as pd\n",
        "from urllib.request import urlopen\n",
        "from bs4 import BeautifulSoup"
      ]
    },
    {
      "cell_type": "markdown",
      "metadata": {
        "id": "nBIFV5Lrir6Y"
      },
      "source": [
        "# 3_url 분석"
      ]
    },
    {
      "cell_type": "code",
      "execution_count": null,
      "metadata": {
        "id": "AEzhAIFS8eUq",
        "tags": []
      },
      "outputs": [],
      "source": [
        "# \"개벽\" 기사가 서비스되는 웹페이지 주소 1개를 불러와서 url 변수에 저장하기\n",
        "# 이 url에서 기사별 id가 있는 부분을 경계로 그 이전과 이후를 분리하기\n",
        "\n",
        "url = 'https://db.history.go.kr/modern/level.do?levelId=ma_013_0010_0001'\n",
        "url_s = url.split('ma_013_0010_0001')\n",
        "print(url)\n",
        "print(url_s)"
      ]
    },
    {
      "cell_type": "markdown",
      "metadata": {
        "id": "L4fc4WjgjAwo"
      },
      "source": [
        "# 4_기사정보 다운로드"
      ]
    },
    {
      "cell_type": "markdown",
      "metadata": {
        "id": "k9fdy_59jIIY"
      },
      "source": [
        "사전 작업\n",
        "- 국편 한국사데이터베이스/개벽에서 기사정보 다운로드\n",
        "- '개벽_기사정보.txt'로 저장"
      ]
    },
    {
      "cell_type": "code",
      "execution_count": null,
      "metadata": {
        "id": "QPc7GRf4dXSv",
        "tags": []
      },
      "outputs": [],
      "source": [
        "# 이름 조심하기\n",
        "gb_info = 'data/근현대잡지자료 수정본.txt'"
      ]
    },
    {
      "cell_type": "code",
      "execution_count": null,
      "metadata": {
        "id": "LfFVBJ4XdlhN",
        "tags": []
      },
      "outputs": [],
      "source": [
        "df = pd.read_csv(gb_info, delimiter='^', encoding='utf-8')\n",
        "df"
      ]
    },
    {
      "cell_type": "code",
      "execution_count": null,
      "metadata": {
        "id": "PUfc8PDzEnyg",
        "tags": []
      },
      "outputs": [],
      "source": [
        "df.info()"
      ]
    },
    {
      "cell_type": "code",
      "execution_count": null,
      "metadata": {
        "id": "2kg2nv7iEyvE",
        "tags": []
      },
      "outputs": [],
      "source": [
        "# '발행일' 열이 공백이면 기사내용이 포함되지 않은 행이라는 뜻\n",
        "df1 = df[['자료ID', '기사제목', '필자', '기사형태', '발행일', 'URL']]\n",
        "df1"
      ]
    },
    {
      "cell_type": "code",
      "execution_count": null,
      "metadata": {
        "tags": [],
        "id": "j1ypiBfwDRVJ"
      },
      "outputs": [],
      "source": [
        "# 결측치 확인, 발행일열이 공백인 77개의 행을 없앨 필요가 있음\n",
        "df1.isna().sum()"
      ]
    },
    {
      "cell_type": "code",
      "execution_count": null,
      "metadata": {
        "tags": [],
        "id": "85esmGBCDRVJ"
      },
      "outputs": [],
      "source": [
        "# 발행일 열이 공백인 행을 보기\n",
        "df1[df1['발행일'].isna()][:30]"
      ]
    },
    {
      "cell_type": "code",
      "execution_count": null,
      "metadata": {
        "tags": [],
        "id": "7O5BLuAtDRVJ"
      },
      "outputs": [],
      "source": [
        "# 요약통계\n",
        "df1.describe()"
      ]
    },
    {
      "cell_type": "code",
      "execution_count": null,
      "metadata": {
        "tags": [],
        "id": "TxFRvzxaDRVJ"
      },
      "outputs": [],
      "source": [
        "# 값 파악\n",
        "df1['발행일'].value_counts().sort_index()[60:90]"
      ]
    },
    {
      "cell_type": "code",
      "execution_count": null,
      "metadata": {
        "tags": [],
        "id": "6t6Ob-OVDRVJ"
      },
      "outputs": [],
      "source": [
        "# 결측치 제거\n",
        "df1 = df1.copy()\n",
        "df1 = df1.dropna(subset = ['발행일'])  # 발행일 열이 비어있는 곳을 없애기\n",
        "df1"
      ]
    },
    {
      "cell_type": "code",
      "execution_count": null,
      "metadata": {
        "tags": [],
        "id": "bqZ9Sfg1DRVJ"
      },
      "outputs": [],
      "source": [
        "# 1930년대 개벽 제외\n",
        "df1['year'] = df1['발행일'].apply(lambda x: int(x[:4]))\n",
        "df2 = df1.query('year < 1930')\n",
        "df2"
      ]
    },
    {
      "cell_type": "code",
      "execution_count": null,
      "metadata": {
        "tags": [],
        "id": "_kq6vyEUDRVJ"
      },
      "outputs": [],
      "source": [
        "df2.info() # 자료id가 2257개 임을 알 수 있음"
      ]
    },
    {
      "cell_type": "code",
      "execution_count": null,
      "metadata": {
        "tags": [],
        "id": "GT0ZD5tiDRVJ"
      },
      "outputs": [],
      "source": [
        "df2.isna().sum() # 다시한번 결측치를 확인하니 발행일 쪽 결측치가 0이 됨"
      ]
    },
    {
      "cell_type": "code",
      "execution_count": null,
      "metadata": {
        "tags": [],
        "id": "q7Gz3oLDDRVK"
      },
      "outputs": [],
      "source": [
        "# 자료ID 길이 확인 <- 크로스 체크\n",
        "df2['자료ID'].str.len().value_counts()\n",
        "# 자료id가 글자길이가 16인 것이 2257개임을 알 수 있음\n",
        "# 만약 글자길이가 다른 id가 존재한다면 그것도 결측치로 제거할 수 있음(밑 코드 이용)"
      ]
    },
    {
      "cell_type": "code",
      "source": [
        "# df2 = df1[df1['자료ID'].str.len() != 17] # 길이가 17인 자료id 행 삭제\n",
        "# df2"
      ],
      "metadata": {
        "id": "GBunR5RQNJmO"
      },
      "execution_count": null,
      "outputs": []
    },
    {
      "cell_type": "markdown",
      "metadata": {
        "id": "AXPq0wwTmvip"
      },
      "source": [
        "# 5_기사 id를 이용한 원문 스크래핑\n",
        "- url_s 변수를 이용하여 기사 ID를 포함한 웹페이지 주소를 생성\n",
        "- 이 주소를 이용하여 웹 페이지에 접속하고, BeautifulSoup을 사용하여 원하는 부분의 데이터를 추출\n",
        "- 국편위 개별 사료 페이지로 가서 Ctrl + Shift + i 를 누르기, html에서 텍스트가 어느 위치에 있는지 알아보기(실습)"
      ]
    },
    {
      "cell_type": "code",
      "execution_count": null,
      "metadata": {
        "id": "sYorz5nThzuN",
        "tags": []
      },
      "outputs": [],
      "source": [
        "# 기사 id를 모두 리스트로 변환\n",
        "\n",
        "id_List = df2['자료ID'].to_list()\n",
        "print(len(id_List))\n",
        "id_List[:10]"
      ]
    },
    {
      "cell_type": "code",
      "execution_count": null,
      "metadata": {
        "id": "JcAwkgIKAjcL",
        "tags": []
      },
      "outputs": [],
      "source": [
        "# 본문 가져오기 사용자 함수 작성\n",
        "\n",
        "def get_contents(url):\n",
        "    nm = 1\n",
        "    results = []  # 결과를 저장할 리스트 생성\n",
        "\n",
        "    # SSL 인증서 확인을 건너뛰도록 설정\n",
        "    ctx = ssl.create_default_context()\n",
        "    ctx.check_hostname = False\n",
        "    ctx.verify_mode = ssl.CERT_NONE\n",
        "\n",
        "    for ids in id_List[:5]: # 샘플로 5개 기사만 추출, 숫자를 아까 자료 id 전체 크기로 바꾸면 모든 사료를 스크래핑하는 것\n",
        "        N_url = url_s[0] + ids + url_s[-1]\n",
        "        # SSL 인증서 확인을 건너뛰는 urlopen 사용\n",
        "        webpage = urlopen(N_url, context=ctx)\n",
        "\n",
        "        bsobj = BeautifulSoup(webpage.read(), 'html.parser')\n",
        "        List1 = bsobj.findAll('div', {'id': 'cont_view'})  # 이 부분을 국편위 사이트 개별 사료에서 html을 파악하여 위치를 넣는 곳\n",
        "\n",
        "        for z in List1:\n",
        "            z1 = z.get_text('\\n', strip=True)\n",
        "            results.append([ids, z1])  # 결과를 리스트에 추가\n",
        "\n",
        "    # pandas DataFrame으로 변환\n",
        "    result_df = pd.DataFrame(results, columns=['자료ID', 'Content'])\n",
        "    return result_df"
      ]
    },
    {
      "cell_type": "code",
      "execution_count": null,
      "metadata": {
        "id": "Ty_FfQ1hpTJX",
        "tags": []
      },
      "outputs": [],
      "source": [
        "contents_5_df = get_contents(url)\n",
        "contents_5_df"
      ]
    },
    {
      "cell_type": "code",
      "execution_count": null,
      "metadata": {
        "id": "qi38QdJ5IjAc",
        "tags": []
      },
      "outputs": [],
      "source": [
        "# 본문 내용 확인 (첫 행)\n",
        "print(contents_5_df.loc[3,'Content'])"
      ]
    },
    {
      "cell_type": "markdown",
      "metadata": {
        "id": "HbLnDXixpwQ_"
      },
      "source": [
        "# 6_데이터 저장"
      ]
    },
    {
      "cell_type": "code",
      "execution_count": null,
      "metadata": {
        "id": "x_QREybe1CcG",
        "tags": []
      },
      "outputs": [],
      "source": [
        "# 두 데이터프레임을 '자료ID' 기준으로 통합\n",
        "\n",
        "combi_df = pd.merge(df2, contents_5_df, on='자료ID', how='inner')\n",
        "combi_df"
      ]
    },
    {
      "cell_type": "code",
      "execution_count": null,
      "metadata": {
        "id": "q5Ta24W21nO2",
        "tags": []
      },
      "outputs": [],
      "source": [
        "# 저장\n",
        "combi_df.to_excel('result/A1_raw5.xlsx', index=False)  # 인덱스를 저장하지 않도록 설정"
      ]
    },
    {
      "cell_type": "markdown",
      "metadata": {
        "id": "RtsnJaro1nL-"
      },
      "source": [
        "# The End of Note"
      ]
    },
    {
      "cell_type": "markdown",
      "source": [
        "---"
      ],
      "metadata": {
        "id": "XPZIoTXNOZsM"
      }
    },
    {
      "cell_type": "markdown",
      "source": [
        "# 텍스트 전처리(형태소 분석)과 간단한 빈도 분석 실습"
      ],
      "metadata": {
        "id": "RqkPKkzV60p4"
      }
    },
    {
      "cell_type": "code",
      "source": [],
      "metadata": {
        "id": "oYIQVR3F67q-"
      },
      "execution_count": null,
      "outputs": []
    }
  ],
  "metadata": {
    "colab": {
      "private_outputs": true,
      "provenance": [],
      "include_colab_link": true
    },
    "kernelspec": {
      "display_name": "Python 3 (ipykernel)",
      "language": "python",
      "name": "python3"
    },
    "language_info": {
      "codemirror_mode": {
        "name": "ipython",
        "version": 3
      },
      "file_extension": ".py",
      "mimetype": "text/x-python",
      "name": "python",
      "nbconvert_exporter": "python",
      "pygments_lexer": "ipython3",
      "version": "3.11.5"
    },
    "toc-autonumbering": false
  },
  "nbformat": 4,
  "nbformat_minor": 0
}